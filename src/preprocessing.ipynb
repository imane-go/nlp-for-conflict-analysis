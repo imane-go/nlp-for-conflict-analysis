{
 "cells": [
  {
   "cell_type": "code",
   "execution_count": null,
   "id": "86cb1504-872b-4164-8472-4e06cf784130",
   "metadata": {},
   "outputs": [],
   "source": [
    "import numpy as np\n",
    "from sklearn.feature_extraction.text import TfidfVectorizer\n",
    "import pandas as pd\n",
    "import string\n",
    "\n",
    "# loading the comments\n",
    "data = pd.read_csv('output.csv')  \n",
    "\n",
    "# preprocessing the textual data\n",
    "def preprocess(doc):\n",
    "    return doc.translate(str.maketrans('', '', string.punctuation)).lower()\n",
    "\n",
    "# applying it to the column \"comments\"\n",
    "data[' Commentaire'] = data[' Commentaire'].apply(preprocess)"
   ]
  }
 ],
 "metadata": {
  "kernelspec": {
   "display_name": "Python 3 (ipykernel)",
   "language": "python",
   "name": "python3"
  },
  "language_info": {
   "codemirror_mode": {
    "name": "ipython",
    "version": 3
   },
   "file_extension": ".py",
   "mimetype": "text/x-python",
   "name": "python",
   "nbconvert_exporter": "python",
   "pygments_lexer": "ipython3",
   "version": "3.11.7"
  }
 },
 "nbformat": 4,
 "nbformat_minor": 5
}
